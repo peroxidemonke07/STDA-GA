{
 "cells": [
  {
   "cell_type": "markdown",
   "id": "0c0fc845",
   "metadata": {},
   "source": [
    "# Imports"
   ]
  },
  {
   "cell_type": "code",
   "execution_count": 1,
   "id": "0ea49ed0",
   "metadata": {},
   "outputs": [],
   "source": [
    "import pandas as pd\n",
    "import pprint as pp\n",
    "import matplotlib.pyplot as plt\n",
    "import plotly.express as px\n",
    "from geopy.geocoders import Nominatim\n",
    "from geopy.exc import GeocoderTimedOut\n",
    "import time\n",
    "import os\n",
    "from tqdm import tqdm\n",
    "\n"
   ]
  },
  {
   "cell_type": "markdown",
   "id": "87087da7",
   "metadata": {},
   "source": [
    "# Load Data"
   ]
  },
  {
   "cell_type": "markdown",
   "id": "71bd4752",
   "metadata": {},
   "source": [
    "Dataset containing information about each company on the INC 5000 list in 2019. Fields include the company name, industry, founding year, website, and location, as well as 2019 revenue, % growth, number of workers (year-over-year), and the number of years on the list."
   ]
  },
  {
   "cell_type": "code",
   "execution_count": 2,
   "id": "29ef87e5",
   "metadata": {},
   "outputs": [],
   "source": [
    "INPUT_FILE_PATH = \"data/INC 5000 Companies 2019.csv\""
   ]
  },
  {
   "cell_type": "code",
   "execution_count": 3,
   "id": "83bd1196",
   "metadata": {},
   "outputs": [
    {
     "name": "stdout",
     "output_type": "stream",
     "text": [
      "shape of DataFrame : (5012, 14)\n"
     ]
    },
    {
     "data": {
      "text/html": [
       "<div>\n",
       "<style scoped>\n",
       "    .dataframe tbody tr th:only-of-type {\n",
       "        vertical-align: middle;\n",
       "    }\n",
       "\n",
       "    .dataframe tbody tr th {\n",
       "        vertical-align: top;\n",
       "    }\n",
       "\n",
       "    .dataframe thead th {\n",
       "        text-align: right;\n",
       "    }\n",
       "</style>\n",
       "<table border=\"1\" class=\"dataframe\">\n",
       "  <thead>\n",
       "    <tr style=\"text-align: right;\">\n",
       "      <th></th>\n",
       "      <th>rank</th>\n",
       "      <th>profile</th>\n",
       "      <th>name</th>\n",
       "      <th>url</th>\n",
       "      <th>state</th>\n",
       "      <th>revenue</th>\n",
       "      <th>growth_%</th>\n",
       "      <th>industry</th>\n",
       "      <th>workers</th>\n",
       "      <th>previous_workers</th>\n",
       "      <th>founded</th>\n",
       "      <th>yrs_on_list</th>\n",
       "      <th>metro</th>\n",
       "      <th>city</th>\n",
       "    </tr>\n",
       "  </thead>\n",
       "  <tbody>\n",
       "    <tr>\n",
       "      <th>0</th>\n",
       "      <td>1</td>\n",
       "      <td>https://www.inc.com/profile/freestar</td>\n",
       "      <td>Freestar</td>\n",
       "      <td>http://freestar.com</td>\n",
       "      <td>AZ</td>\n",
       "      <td>36.9 Million</td>\n",
       "      <td>36680.3882</td>\n",
       "      <td>Advertising &amp; Marketing</td>\n",
       "      <td>40.0</td>\n",
       "      <td>5</td>\n",
       "      <td>2015</td>\n",
       "      <td>1</td>\n",
       "      <td>Phoenix</td>\n",
       "      <td>Phoenix</td>\n",
       "    </tr>\n",
       "    <tr>\n",
       "      <th>1</th>\n",
       "      <td>2</td>\n",
       "      <td>https://www.inc.com/profile/freightwise</td>\n",
       "      <td>FreightWise</td>\n",
       "      <td>http://freightwisellc.com</td>\n",
       "      <td>TN</td>\n",
       "      <td>33.6 Million</td>\n",
       "      <td>30547.9317</td>\n",
       "      <td>Logistics &amp; Transportation</td>\n",
       "      <td>39.0</td>\n",
       "      <td>8</td>\n",
       "      <td>2015</td>\n",
       "      <td>1</td>\n",
       "      <td>Nashville</td>\n",
       "      <td>Brentwood</td>\n",
       "    </tr>\n",
       "    <tr>\n",
       "      <th>2</th>\n",
       "      <td>3</td>\n",
       "      <td>https://www.inc.com/profile/ceces-veggie</td>\n",
       "      <td>Cece's Veggie Co.</td>\n",
       "      <td>http://cecesveggieco.com</td>\n",
       "      <td>TX</td>\n",
       "      <td>24.9 Million</td>\n",
       "      <td>23880.4852</td>\n",
       "      <td>Food &amp; Beverage</td>\n",
       "      <td>190.0</td>\n",
       "      <td>10</td>\n",
       "      <td>2015</td>\n",
       "      <td>1</td>\n",
       "      <td>Austin</td>\n",
       "      <td>Austin</td>\n",
       "    </tr>\n",
       "    <tr>\n",
       "      <th>3</th>\n",
       "      <td>4</td>\n",
       "      <td>https://www.inc.com/profile/ladyboss</td>\n",
       "      <td>LadyBoss</td>\n",
       "      <td>http://ladyboss.com</td>\n",
       "      <td>NM</td>\n",
       "      <td>32.4 Million</td>\n",
       "      <td>21849.8925</td>\n",
       "      <td>Consumer Products &amp; Services</td>\n",
       "      <td>57.0</td>\n",
       "      <td>2</td>\n",
       "      <td>2014</td>\n",
       "      <td>1</td>\n",
       "      <td>NaN</td>\n",
       "      <td>Albuquerque</td>\n",
       "    </tr>\n",
       "    <tr>\n",
       "      <th>4</th>\n",
       "      <td>5</td>\n",
       "      <td>https://www.inc.com/profile/perpay</td>\n",
       "      <td>Perpay</td>\n",
       "      <td>http://perpay.com</td>\n",
       "      <td>PA</td>\n",
       "      <td>22.5 Million</td>\n",
       "      <td>18166.4070</td>\n",
       "      <td>Retail</td>\n",
       "      <td>25.0</td>\n",
       "      <td>6</td>\n",
       "      <td>2014</td>\n",
       "      <td>1</td>\n",
       "      <td>Philadelphia</td>\n",
       "      <td>Philadelphia</td>\n",
       "    </tr>\n",
       "  </tbody>\n",
       "</table>\n",
       "</div>"
      ],
      "text/plain": [
       "   rank                                   profile               name  \\\n",
       "0     1      https://www.inc.com/profile/freestar           Freestar   \n",
       "1     2   https://www.inc.com/profile/freightwise        FreightWise   \n",
       "2     3  https://www.inc.com/profile/ceces-veggie  Cece's Veggie Co.   \n",
       "3     4      https://www.inc.com/profile/ladyboss           LadyBoss   \n",
       "4     5        https://www.inc.com/profile/perpay             Perpay   \n",
       "\n",
       "                         url state       revenue    growth_%  \\\n",
       "0        http://freestar.com    AZ  36.9 Million  36680.3882   \n",
       "1  http://freightwisellc.com    TN  33.6 Million  30547.9317   \n",
       "2   http://cecesveggieco.com    TX  24.9 Million  23880.4852   \n",
       "3        http://ladyboss.com    NM  32.4 Million  21849.8925   \n",
       "4          http://perpay.com    PA  22.5 Million  18166.4070   \n",
       "\n",
       "                       industry  workers  previous_workers  founded  \\\n",
       "0       Advertising & Marketing     40.0                 5     2015   \n",
       "1    Logistics & Transportation     39.0                 8     2015   \n",
       "2               Food & Beverage    190.0                10     2015   \n",
       "3  Consumer Products & Services     57.0                 2     2014   \n",
       "4                        Retail     25.0                 6     2014   \n",
       "\n",
       "   yrs_on_list         metro          city  \n",
       "0            1       Phoenix       Phoenix  \n",
       "1            1     Nashville     Brentwood  \n",
       "2            1        Austin        Austin  \n",
       "3            1           NaN   Albuquerque  \n",
       "4            1  Philadelphia  Philadelphia  "
      ]
     },
     "execution_count": 3,
     "metadata": {},
     "output_type": "execute_result"
    }
   ],
   "source": [
    "raw_df = pd.read_csv(INPUT_FILE_PATH) \n",
    "print(f\"shape of DataFrame : {raw_df.shape}\")\n",
    "raw_df.head()"
   ]
  },
  {
   "cell_type": "markdown",
   "id": "53f1448c",
   "metadata": {},
   "source": [
    "## Attirbute datatypes "
   ]
  },
  {
   "cell_type": "code",
   "execution_count": 4,
   "id": "66529e0c",
   "metadata": {},
   "outputs": [
    {
     "name": "stdout",
     "output_type": "stream",
     "text": [
      "rank                  int64\n",
      "profile              object\n",
      "name                 object\n",
      "url                  object\n",
      "state                object\n",
      "revenue              object\n",
      "growth_%            float64\n",
      "industry             object\n",
      "workers             float64\n",
      "previous_workers      int64\n",
      "founded               int64\n",
      "yrs_on_list           int64\n",
      "metro                object\n",
      "city                 object\n",
      "dtype: object\n"
     ]
    }
   ],
   "source": [
    "print(raw_df.dtypes)"
   ]
  },
  {
   "cell_type": "markdown",
   "id": "a454026b",
   "metadata": {},
   "source": [
    "# Preprocessing"
   ]
  },
  {
   "cell_type": "markdown",
   "id": "8b57e7a3",
   "metadata": {},
   "source": [
    "## Dealing with Null values"
   ]
  },
  {
   "cell_type": "code",
   "execution_count": 5,
   "id": "77d53755",
   "metadata": {},
   "outputs": [
    {
     "name": "stdout",
     "output_type": "stream",
     "text": [
      "rank                  0\n",
      "profile               0\n",
      "name                  0\n",
      "url                   0\n",
      "state                 0\n",
      "revenue               0\n",
      "growth_%              0\n",
      "industry              0\n",
      "workers               1\n",
      "previous_workers      0\n",
      "founded               0\n",
      "yrs_on_list           0\n",
      "metro               813\n",
      "city                  0\n",
      "dtype: int64\n"
     ]
    }
   ],
   "source": [
    "print(raw_df.isna().sum())"
   ]
  },
  {
   "cell_type": "markdown",
   "id": "29975bc8",
   "metadata": {},
   "source": [
    "### column: metro\n",
    "Metropolitan area the city is located in \n",
    "* Eg. Long Beach in Los Angeles"
   ]
  },
  {
   "cell_type": "code",
   "execution_count": 6,
   "id": "32418502",
   "metadata": {},
   "outputs": [
    {
     "name": "stdout",
     "output_type": "stream",
     "text": [
      "No. of cities with Null metro: 483\n"
     ]
    }
   ],
   "source": [
    "print(f\"No. of cities with Null metro: {len(raw_df[raw_df['metro'].isna()]['city'].unique())}\")"
   ]
  },
  {
   "cell_type": "code",
   "execution_count": 7,
   "id": "0996a987",
   "metadata": {},
   "outputs": [
    {
     "data": {
      "text/plain": [
       "0"
      ]
     },
     "execution_count": 7,
     "metadata": {},
     "output_type": "execute_result"
    }
   ],
   "source": [
    "# we fill null metropolitan area with city\n",
    "raw_df['metro'] = raw_df['metro'].fillna(raw_df['city'])\n",
    "raw_df['metro'].isna().sum()"
   ]
  },
  {
   "cell_type": "markdown",
   "id": "af9f8ca7",
   "metadata": {},
   "source": [
    "### column: workers"
   ]
  },
  {
   "cell_type": "code",
   "execution_count": 8,
   "id": "e0c7941b",
   "metadata": {},
   "outputs": [
    {
     "data": {
      "text/html": [
       "<div>\n",
       "<style scoped>\n",
       "    .dataframe tbody tr th:only-of-type {\n",
       "        vertical-align: middle;\n",
       "    }\n",
       "\n",
       "    .dataframe tbody tr th {\n",
       "        vertical-align: top;\n",
       "    }\n",
       "\n",
       "    .dataframe thead th {\n",
       "        text-align: right;\n",
       "    }\n",
       "</style>\n",
       "<table border=\"1\" class=\"dataframe\">\n",
       "  <thead>\n",
       "    <tr style=\"text-align: right;\">\n",
       "      <th></th>\n",
       "      <th>rank</th>\n",
       "      <th>profile</th>\n",
       "      <th>name</th>\n",
       "      <th>url</th>\n",
       "      <th>state</th>\n",
       "      <th>revenue</th>\n",
       "      <th>growth_%</th>\n",
       "      <th>industry</th>\n",
       "      <th>workers</th>\n",
       "      <th>previous_workers</th>\n",
       "      <th>founded</th>\n",
       "      <th>yrs_on_list</th>\n",
       "      <th>metro</th>\n",
       "      <th>city</th>\n",
       "    </tr>\n",
       "  </thead>\n",
       "  <tbody>\n",
       "    <tr>\n",
       "      <th>3755</th>\n",
       "      <td>3746</td>\n",
       "      <td>https://www.inc.com/profile/mansari</td>\n",
       "      <td>Mansari</td>\n",
       "      <td>https://www.collegehunkshaulingjunk.com/tampa-...</td>\n",
       "      <td>FL</td>\n",
       "      <td>2.5 Million</td>\n",
       "      <td>90.7485</td>\n",
       "      <td>Consumer Products &amp; Services</td>\n",
       "      <td>NaN</td>\n",
       "      <td>20</td>\n",
       "      <td>2008</td>\n",
       "      <td>1</td>\n",
       "      <td>Tampa</td>\n",
       "      <td>Tampa</td>\n",
       "    </tr>\n",
       "  </tbody>\n",
       "</table>\n",
       "</div>"
      ],
      "text/plain": [
       "      rank                              profile     name  \\\n",
       "3755  3746  https://www.inc.com/profile/mansari  Mansari   \n",
       "\n",
       "                                                    url state      revenue  \\\n",
       "3755  https://www.collegehunkshaulingjunk.com/tampa-...    FL  2.5 Million   \n",
       "\n",
       "      growth_%                      industry  workers  previous_workers  \\\n",
       "3755   90.7485  Consumer Products & Services      NaN                20   \n",
       "\n",
       "      founded  yrs_on_list  metro   city  \n",
       "3755     2008            1  Tampa  Tampa  "
      ]
     },
     "execution_count": 8,
     "metadata": {},
     "output_type": "execute_result"
    }
   ],
   "source": [
    "raw_df[raw_df['workers'].isna()]"
   ]
  },
  {
   "cell_type": "code",
   "execution_count": 9,
   "id": "b27f2ab4",
   "metadata": {},
   "outputs": [
    {
     "name": "stdout",
     "output_type": "stream",
     "text": [
      "shape of DataFrame after dropping: (5011, 14)\n",
      "No. of rows with Null values in workers after dropping: 0\n"
     ]
    }
   ],
   "source": [
    "raw_df = raw_df.dropna(subset=['workers'])\n",
    "print(f\"shape of DataFrame after dropping: {raw_df.shape}\")\n",
    "print(f\"No. of rows with Null values in workers after dropping: {raw_df['workers'].isna().sum()}\")"
   ]
  },
  {
   "cell_type": "markdown",
   "id": "8c444d09",
   "metadata": {},
   "source": [
    "## Geocoding"
   ]
  },
  {
   "cell_type": "markdown",
   "id": "f9f0158b",
   "metadata": {},
   "source": [
    "### Geocode function"
   ]
  },
  {
   "cell_type": "code",
   "execution_count": 10,
   "id": "2c0d12de",
   "metadata": {},
   "outputs": [],
   "source": [
    "import os\n",
    "import time\n",
    "import requests\n",
    "import pandas as pd\n",
    "from tqdm import tqdm\n",
    "\n",
    "NOMINATIM_URL = \"https://nominatim.openstreetmap.org/search\"\n",
    "HEADERS = {\"User-Agent\": \"geoapi-mayank\"}\n",
    "\n",
    "def get_lat_lon_for_cities(city_state_df, cache_file, sleep_time=1.1):\n",
    "    \"\"\"\n",
    "    Geocode unique city-state pairs and cache results.\n",
    "\n",
    "    Parameters:\n",
    "    - city_state_df (pd.DataFrame): DataFrame with 'city' and 'state' columns (unique pairs).\n",
    "    - cache_file (str): Path to save/load cached results.\n",
    "    - sleep_time (float): Time to sleep between requests to avoid rate-limiting.\n",
    "\n",
    "    Returns:\n",
    "    - pd.DataFrame: city_state_df with added 'latitude' and 'longitude' columns.\n",
    "    \"\"\"\n",
    "\n",
    "    def geocode(row, retries=3, backoff=2):\n",
    "        query = f\"{row['city']}, {row['state']}, USA\"\n",
    "        params = {\"q\": query, \"format\": \"json\", \"limit\": 1}\n",
    "\n",
    "        for attempt in range(retries):\n",
    "            try:\n",
    "                response = requests.get(NOMINATIM_URL, headers=HEADERS, params=params, timeout=10)\n",
    "                if response.status_code == 200:\n",
    "                    data = response.json()\n",
    "                    if data:\n",
    "                        return float(data[0]['lat']), float(data[0]['lon'])\n",
    "                else:\n",
    "                    print(f\"Error {response.status_code} for {query}\")\n",
    "            except requests.RequestException as e:\n",
    "                print(f\"Request failed for {query} (attempt {attempt + 1}): {e}\")\n",
    "                time.sleep(backoff ** attempt)\n",
    "\n",
    "        return None, None\n",
    "\n",
    "    if os.path.exists(cache_file):\n",
    "        print(f\"Loading from cache: {cache_file}\")\n",
    "        cached_df = pd.read_csv(cache_file)\n",
    "    else:\n",
    "        city_state_df = city_state_df.drop_duplicates().reset_index(drop=True)\n",
    "        print(f\"Geocoding {len(city_state_df)} unique city-state pairs...\")\n",
    "\n",
    "        latitudes, longitudes = [], []\n",
    "        for _, row in tqdm(city_state_df.iterrows(), total=len(city_state_df), desc=\"Geocoding\"):\n",
    "            lat, lon = geocode(row)\n",
    "            latitudes.append(lat)\n",
    "            longitudes.append(lon)\n",
    "            time.sleep(sleep_time)\n",
    "\n",
    "        city_state_df[\"latitude\"] = latitudes\n",
    "        city_state_df[\"longitude\"] = longitudes\n",
    "        cached_df = city_state_df\n",
    "        cached_df.to_csv(cache_file, index=False)\n",
    "\n",
    "    return cached_df\n",
    "\n",
    "\n",
    "def geocode_cities(raw_df, cache_file):\n",
    "    \"\"\"\n",
    "    Merge latitude and longitude into raw_df using city-state pairs.\n",
    "\n",
    "    Parameters:\n",
    "    - raw_df (pd.DataFrame): Full DataFrame with 'city' and 'state' columns.\n",
    "    - cache_file (str): Path to cached city-state geocoded data.\n",
    "\n",
    "    Returns:\n",
    "    - pd.DataFrame: raw_df with 'latitude' and 'longitude' columns merged.\n",
    "    \"\"\"\n",
    "    city_state_df = raw_df[['city', 'state']].copy()\n",
    "    geo_df = get_lat_lon_for_cities(city_state_df, cache_file)\n",
    "    print(geo_df.isna().sum())\n",
    "    return raw_df.merge(geo_df, on=['city', 'state'], how='left')\n"
   ]
  },
  {
   "cell_type": "code",
   "execution_count": 12,
   "id": "f57744c7",
   "metadata": {},
   "outputs": [
    {
     "name": "stdout",
     "output_type": "stream",
     "text": [
      "Loading from cache: data/lat-lon-cache.csv\n",
      "city          0\n",
      "state         0\n",
      "latitude     21\n",
      "longitude    21\n",
      "dtype: int64\n"
     ]
    }
   ],
   "source": [
    "geocoded_df = geocode_cities(raw_df,\"data/lat-lon-cache.csv\")"
   ]
  },
  {
   "cell_type": "markdown",
   "id": "0280e161",
   "metadata": {},
   "source": [
    "### null values"
   ]
  },
  {
   "cell_type": "code",
   "execution_count": 13,
   "id": "98db823a",
   "metadata": {},
   "outputs": [
    {
     "data": {
      "text/plain": [
       "rank                 0\n",
       "profile              0\n",
       "name                 0\n",
       "url                  0\n",
       "state                0\n",
       "revenue              0\n",
       "growth_%             0\n",
       "industry             0\n",
       "workers              0\n",
       "previous_workers     0\n",
       "founded              0\n",
       "yrs_on_list          0\n",
       "metro                0\n",
       "city                 0\n",
       "latitude            31\n",
       "longitude           31\n",
       "dtype: int64"
      ]
     },
     "execution_count": 13,
     "metadata": {},
     "output_type": "execute_result"
    }
   ],
   "source": [
    "geocoded_df.isna().sum()"
   ]
  },
  {
   "cell_type": "code",
   "execution_count": 14,
   "id": "deab43a0",
   "metadata": {},
   "outputs": [
    {
     "name": "stdout",
     "output_type": "stream",
     "text": [
      "Number of cities with Null geocode: 21\n",
      "                 city state\n",
      "286        Birmimgham    AL\n",
      "309       Solana Bech    CA\n",
      "454     Please Select    LA\n",
      "457        Schaumberg    IL\n",
      "790         Covingtom    LA\n",
      "824            Chicao    IL\n",
      "1174  Colorad Springs    CO\n",
      "1203        Arlignton    TX\n",
      "1209       Greenville    SD\n",
      "1399       Swannnanoa    NC\n",
      "1594             Wash    DC\n",
      "1653    Saint Charles    IL\n",
      "1776      Minneapolis    PA\n",
      "2174             wall    NJ\n",
      "3524      Cincinnnati    OH\n",
      "3717      Naperrville    IL\n",
      "4044     COTTONWD HTS    UT\n",
      "4169        Kasyville    UT\n",
      "4497          Ahaheim    CA\n",
      "4507             Wall    NJ\n",
      "4985       Encinitass    CA\n"
     ]
    }
   ],
   "source": [
    "print(f\"Number of cities with Null geocode: {len(geocoded_df[geocoded_df.isnull().any(axis=1)][['city','state']].drop_duplicates())}\")\n",
    "print(geocoded_df[geocoded_df.isnull().any(axis=1)][['city','state']].drop_duplicates())"
   ]
  },
  {
   "cell_type": "markdown",
   "id": "69b5d18d",
   "metadata": {},
   "source": [
    "### Issues in data\n",
    "\n",
    "* Some are spelling mistakes in city names\n",
    "* Wrong state for Minneapolis -> Nelson\n",
    "    * given PA\n",
    "    * actual MN\n",
    "* Wrong state for Greenville -> Lima One Capital \n",
    "    * given SD\n",
    "    * actual SC "
   ]
  },
  {
   "cell_type": "code",
   "execution_count": null,
   "id": "5a715554",
   "metadata": {},
   "outputs": [
    {
     "data": {
      "text/html": [
       "<div>\n",
       "<style scoped>\n",
       "    .dataframe tbody tr th:only-of-type {\n",
       "        vertical-align: middle;\n",
       "    }\n",
       "\n",
       "    .dataframe tbody tr th {\n",
       "        vertical-align: top;\n",
       "    }\n",
       "\n",
       "    .dataframe thead th {\n",
       "        text-align: right;\n",
       "    }\n",
       "</style>\n",
       "<table border=\"1\" class=\"dataframe\">\n",
       "  <thead>\n",
       "    <tr style=\"text-align: right;\">\n",
       "      <th></th>\n",
       "      <th>city</th>\n",
       "      <th>state</th>\n",
       "      <th>corrected_city</th>\n",
       "      <th>corrected_state</th>\n",
       "    </tr>\n",
       "  </thead>\n",
       "  <tbody>\n",
       "    <tr>\n",
       "      <th>0</th>\n",
       "      <td>Birmimgham</td>\n",
       "      <td>AL</td>\n",
       "      <td>Birmingham</td>\n",
       "      <td>AL</td>\n",
       "    </tr>\n",
       "    <tr>\n",
       "      <th>1</th>\n",
       "      <td>Solana Bech</td>\n",
       "      <td>CA</td>\n",
       "      <td>Solana Beach</td>\n",
       "      <td>CA</td>\n",
       "    </tr>\n",
       "    <tr>\n",
       "      <th>2</th>\n",
       "      <td>Please Select</td>\n",
       "      <td>LA</td>\n",
       "      <td>Houma</td>\n",
       "      <td>LA</td>\n",
       "    </tr>\n",
       "    <tr>\n",
       "      <th>3</th>\n",
       "      <td>Schaumberg</td>\n",
       "      <td>IL</td>\n",
       "      <td>Schaumburg</td>\n",
       "      <td>IL</td>\n",
       "    </tr>\n",
       "    <tr>\n",
       "      <th>4</th>\n",
       "      <td>Covingtom</td>\n",
       "      <td>LA</td>\n",
       "      <td>Covington</td>\n",
       "      <td>LA</td>\n",
       "    </tr>\n",
       "    <tr>\n",
       "      <th>5</th>\n",
       "      <td>Chicao</td>\n",
       "      <td>IL</td>\n",
       "      <td>Chicago</td>\n",
       "      <td>IL</td>\n",
       "    </tr>\n",
       "    <tr>\n",
       "      <th>6</th>\n",
       "      <td>Colorad Springs</td>\n",
       "      <td>CO</td>\n",
       "      <td>Colorado Springs</td>\n",
       "      <td>CO</td>\n",
       "    </tr>\n",
       "    <tr>\n",
       "      <th>7</th>\n",
       "      <td>Arlignton</td>\n",
       "      <td>TX</td>\n",
       "      <td>Arlington</td>\n",
       "      <td>TX</td>\n",
       "    </tr>\n",
       "    <tr>\n",
       "      <th>8</th>\n",
       "      <td>Greenville</td>\n",
       "      <td>SD</td>\n",
       "      <td>Greenville</td>\n",
       "      <td>SC</td>\n",
       "    </tr>\n",
       "    <tr>\n",
       "      <th>9</th>\n",
       "      <td>Swannnanoa</td>\n",
       "      <td>NC</td>\n",
       "      <td>Swannanoa</td>\n",
       "      <td>NC</td>\n",
       "    </tr>\n",
       "    <tr>\n",
       "      <th>10</th>\n",
       "      <td>Wash</td>\n",
       "      <td>DC</td>\n",
       "      <td>Washington</td>\n",
       "      <td>DC</td>\n",
       "    </tr>\n",
       "    <tr>\n",
       "      <th>11</th>\n",
       "      <td>Saint Charles</td>\n",
       "      <td>IL</td>\n",
       "      <td>St. Charles</td>\n",
       "      <td>IL</td>\n",
       "    </tr>\n",
       "    <tr>\n",
       "      <th>12</th>\n",
       "      <td>Minneapolis</td>\n",
       "      <td>PA</td>\n",
       "      <td>Minneapolis</td>\n",
       "      <td>MN</td>\n",
       "    </tr>\n",
       "    <tr>\n",
       "      <th>13</th>\n",
       "      <td>wall</td>\n",
       "      <td>NJ</td>\n",
       "      <td>Wall Township</td>\n",
       "      <td>NJ</td>\n",
       "    </tr>\n",
       "    <tr>\n",
       "      <th>14</th>\n",
       "      <td>Cincinnnati</td>\n",
       "      <td>OH</td>\n",
       "      <td>Cincinnati</td>\n",
       "      <td>OH</td>\n",
       "    </tr>\n",
       "    <tr>\n",
       "      <th>15</th>\n",
       "      <td>Naperrville</td>\n",
       "      <td>IL</td>\n",
       "      <td>Naperville</td>\n",
       "      <td>IL</td>\n",
       "    </tr>\n",
       "    <tr>\n",
       "      <th>16</th>\n",
       "      <td>COTTONWD HTS</td>\n",
       "      <td>UT</td>\n",
       "      <td>Cottonwood Heights</td>\n",
       "      <td>UT</td>\n",
       "    </tr>\n",
       "    <tr>\n",
       "      <th>17</th>\n",
       "      <td>Kasyville</td>\n",
       "      <td>UT</td>\n",
       "      <td>Kaysville</td>\n",
       "      <td>UT</td>\n",
       "    </tr>\n",
       "    <tr>\n",
       "      <th>18</th>\n",
       "      <td>Ahaheim</td>\n",
       "      <td>CA</td>\n",
       "      <td>Anaheim</td>\n",
       "      <td>CA</td>\n",
       "    </tr>\n",
       "    <tr>\n",
       "      <th>19</th>\n",
       "      <td>Wall</td>\n",
       "      <td>NJ</td>\n",
       "      <td>Wall Township</td>\n",
       "      <td>NJ</td>\n",
       "    </tr>\n",
       "    <tr>\n",
       "      <th>20</th>\n",
       "      <td>Encinitass</td>\n",
       "      <td>CA</td>\n",
       "      <td>Encinitas</td>\n",
       "      <td>CA</td>\n",
       "    </tr>\n",
       "  </tbody>\n",
       "</table>\n",
       "</div>"
      ],
      "text/plain": [
       "               city state      corrected_city corrected_state\n",
       "0        Birmimgham    AL          Birmingham              AL\n",
       "1       Solana Bech    CA        Solana Beach              CA\n",
       "2     Please Select    LA               Houma              LA\n",
       "3        Schaumberg    IL          Schaumburg              IL\n",
       "4         Covingtom    LA           Covington              LA\n",
       "5            Chicao    IL             Chicago              IL\n",
       "6   Colorad Springs    CO    Colorado Springs              CO\n",
       "7         Arlignton    TX           Arlington              TX\n",
       "8        Greenville    SD          Greenville              SC\n",
       "9        Swannnanoa    NC           Swannanoa              NC\n",
       "10             Wash    DC          Washington              DC\n",
       "11    Saint Charles    IL         St. Charles              IL\n",
       "12      Minneapolis    PA         Minneapolis              MN\n",
       "13             wall    NJ       Wall Township              NJ\n",
       "14      Cincinnnati    OH          Cincinnati              OH\n",
       "15      Naperrville    IL          Naperville              IL\n",
       "16     COTTONWD HTS    UT  Cottonwood Heights              UT\n",
       "17        Kasyville    UT           Kaysville              UT\n",
       "18          Ahaheim    CA             Anaheim              CA\n",
       "19             Wall    NJ       Wall Township              NJ\n",
       "20       Encinitass    CA           Encinitas              CA"
      ]
     },
     "execution_count": 41,
     "metadata": {},
     "output_type": "execute_result"
    }
   ],
   "source": [
    "city_corrections = pd.DataFrame({\n",
    "    \"city\": [\n",
    "        \"Birmimgham\", \"Solana Bech\", \"Please Select\", \"Schaumberg\", \"Covingtom\",\n",
    "        \"Chicao\", \"Colorad Springs\", \"Arlignton\", \"Greenville\", \"Swannnanoa\",\n",
    "        \"Wash\", \"Saint Charles\", \"Minneapolis\", \"wall\", \"Cincinnnati\",\n",
    "        \"Naperrville\", \"COTTONWD HTS\", \"Kasyville\", \"Ahaheim\", \"Wall\", \"Encinitass\"\n",
    "    ],\n",
    "    \"state\": [\n",
    "        \"AL\", \"CA\", \"LA\", \"IL\", \"LA\", \"IL\", \"CO\", \"TX\", \"SD\", \"NC\", \"DC\", \"IL\", \"PA\",\n",
    "        \"NJ\", \"OH\", \"IL\", \"UT\", \"UT\", \"CA\", \"NJ\", \"CA\"\n",
    "    ],\n",
    "    \"corrected_city\": [\n",
    "        \"Birmingham\", \"Solana Beach\", \"Houma\", \"Schaumburg\", \"Covington\", \"Chicago\",\n",
    "        \"Colorado Springs\", \"Arlington\", \"Greenville\", \"Swannanoa\", \"Washington\",\n",
    "        \"St. Charles\", \"Minneapolis\", \"Wall Township\", \"Cincinnati\", \"Naperville\",\n",
    "        \"Cottonwood Heights\", \"Kaysville\", \"Anaheim\", \"Wall Township\", \"Encinitas\"\n",
    "    ]\n",
    "})\n",
    "\n",
    "city_corrections[\"corrected_state\"] = city_corrections[\"state\"]\n",
    "\n",
    "# Fix wrong states\n",
    "city_corrections.loc[city_corrections[\"city\"] == \"Minneapolis\", \"corrected_state\"] = \"MN\"\n",
    "city_corrections.loc[city_corrections[\"city\"] == \"Greenville\", \"corrected_state\"] = \"SC\"\n",
    "\n",
    "city_corrections\n"
   ]
  },
  {
   "cell_type": "markdown",
   "id": "5538b790",
   "metadata": {},
   "source": [
    "### correcting latitude and longitude"
   ]
  },
  {
   "cell_type": "code",
   "execution_count": 42,
   "id": "7e9b84f0",
   "metadata": {},
   "outputs": [
    {
     "name": "stdout",
     "output_type": "stream",
     "text": [
      "21\n"
     ]
    },
    {
     "data": {
      "text/html": [
       "<div>\n",
       "<style scoped>\n",
       "    .dataframe tbody tr th:only-of-type {\n",
       "        vertical-align: middle;\n",
       "    }\n",
       "\n",
       "    .dataframe tbody tr th {\n",
       "        vertical-align: top;\n",
       "    }\n",
       "\n",
       "    .dataframe thead th {\n",
       "        text-align: right;\n",
       "    }\n",
       "</style>\n",
       "<table border=\"1\" class=\"dataframe\">\n",
       "  <thead>\n",
       "    <tr style=\"text-align: right;\">\n",
       "      <th></th>\n",
       "      <th>state</th>\n",
       "      <th>city</th>\n",
       "    </tr>\n",
       "  </thead>\n",
       "  <tbody>\n",
       "    <tr>\n",
       "      <th>0</th>\n",
       "      <td>AL</td>\n",
       "      <td>Birmingham</td>\n",
       "    </tr>\n",
       "    <tr>\n",
       "      <th>1</th>\n",
       "      <td>CA</td>\n",
       "      <td>Solana Beach</td>\n",
       "    </tr>\n",
       "    <tr>\n",
       "      <th>2</th>\n",
       "      <td>LA</td>\n",
       "      <td>Houma</td>\n",
       "    </tr>\n",
       "    <tr>\n",
       "      <th>3</th>\n",
       "      <td>IL</td>\n",
       "      <td>Schaumburg</td>\n",
       "    </tr>\n",
       "    <tr>\n",
       "      <th>4</th>\n",
       "      <td>LA</td>\n",
       "      <td>Covington</td>\n",
       "    </tr>\n",
       "    <tr>\n",
       "      <th>5</th>\n",
       "      <td>IL</td>\n",
       "      <td>Chicago</td>\n",
       "    </tr>\n",
       "    <tr>\n",
       "      <th>6</th>\n",
       "      <td>CO</td>\n",
       "      <td>Colorado Springs</td>\n",
       "    </tr>\n",
       "    <tr>\n",
       "      <th>7</th>\n",
       "      <td>TX</td>\n",
       "      <td>Arlington</td>\n",
       "    </tr>\n",
       "    <tr>\n",
       "      <th>8</th>\n",
       "      <td>SC</td>\n",
       "      <td>Greenville</td>\n",
       "    </tr>\n",
       "    <tr>\n",
       "      <th>9</th>\n",
       "      <td>NC</td>\n",
       "      <td>Swannanoa</td>\n",
       "    </tr>\n",
       "    <tr>\n",
       "      <th>10</th>\n",
       "      <td>DC</td>\n",
       "      <td>Washington</td>\n",
       "    </tr>\n",
       "    <tr>\n",
       "      <th>11</th>\n",
       "      <td>IL</td>\n",
       "      <td>St. Charles</td>\n",
       "    </tr>\n",
       "    <tr>\n",
       "      <th>12</th>\n",
       "      <td>MN</td>\n",
       "      <td>Minneapolis</td>\n",
       "    </tr>\n",
       "    <tr>\n",
       "      <th>13</th>\n",
       "      <td>NJ</td>\n",
       "      <td>Wall Township</td>\n",
       "    </tr>\n",
       "    <tr>\n",
       "      <th>14</th>\n",
       "      <td>OH</td>\n",
       "      <td>Cincinnati</td>\n",
       "    </tr>\n",
       "    <tr>\n",
       "      <th>15</th>\n",
       "      <td>IL</td>\n",
       "      <td>Naperville</td>\n",
       "    </tr>\n",
       "    <tr>\n",
       "      <th>16</th>\n",
       "      <td>UT</td>\n",
       "      <td>Cottonwood Heights</td>\n",
       "    </tr>\n",
       "    <tr>\n",
       "      <th>17</th>\n",
       "      <td>UT</td>\n",
       "      <td>Kaysville</td>\n",
       "    </tr>\n",
       "    <tr>\n",
       "      <th>18</th>\n",
       "      <td>CA</td>\n",
       "      <td>Anaheim</td>\n",
       "    </tr>\n",
       "    <tr>\n",
       "      <th>19</th>\n",
       "      <td>NJ</td>\n",
       "      <td>Wall Township</td>\n",
       "    </tr>\n",
       "    <tr>\n",
       "      <th>20</th>\n",
       "      <td>CA</td>\n",
       "      <td>Encinitas</td>\n",
       "    </tr>\n",
       "  </tbody>\n",
       "</table>\n",
       "</div>"
      ],
      "text/plain": [
       "   state                city\n",
       "0     AL          Birmingham\n",
       "1     CA        Solana Beach\n",
       "2     LA               Houma\n",
       "3     IL          Schaumburg\n",
       "4     LA           Covington\n",
       "5     IL             Chicago\n",
       "6     CO    Colorado Springs\n",
       "7     TX           Arlington\n",
       "8     SC          Greenville\n",
       "9     NC           Swannanoa\n",
       "10    DC          Washington\n",
       "11    IL         St. Charles\n",
       "12    MN         Minneapolis\n",
       "13    NJ       Wall Township\n",
       "14    OH          Cincinnati\n",
       "15    IL          Naperville\n",
       "16    UT  Cottonwood Heights\n",
       "17    UT           Kaysville\n",
       "18    CA             Anaheim\n",
       "19    NJ       Wall Township\n",
       "20    CA           Encinitas"
      ]
     },
     "execution_count": 42,
     "metadata": {},
     "output_type": "execute_result"
    }
   ],
   "source": [
    "missing_city_state = pd.DataFrame(\n",
    "    city_corrections[['corrected_state','corrected_city']],\n",
    ")\n",
    "missing_city_state.columns = ['state','city']\n",
    "missing_city_state.drop_duplicates()\n",
    "print(len(missing_city_state))\n",
    "missing_city_state"
   ]
  },
  {
   "cell_type": "code",
   "execution_count": 43,
   "id": "9e3790d3",
   "metadata": {},
   "outputs": [
    {
     "name": "stdout",
     "output_type": "stream",
     "text": [
      "Geocoding 20 unique city-state pairs...\n"
     ]
    },
    {
     "name": "stderr",
     "output_type": "stream",
     "text": [
      "Geocoding: 100%|██████████| 20/20 [00:34<00:00,  1.73s/it]\n"
     ]
    }
   ],
   "source": [
    "missing_lat_lon_df = get_lat_lon_for_cities(\n",
    "    missing_city_state,\n",
    "    \"data/missing-cache.csv\"\n",
    ")"
   ]
  },
  {
   "cell_type": "code",
   "execution_count": 47,
   "id": "e7c77b97",
   "metadata": {},
   "outputs": [
    {
     "data": {
      "text/html": [
       "<div>\n",
       "<style scoped>\n",
       "    .dataframe tbody tr th:only-of-type {\n",
       "        vertical-align: middle;\n",
       "    }\n",
       "\n",
       "    .dataframe tbody tr th {\n",
       "        vertical-align: top;\n",
       "    }\n",
       "\n",
       "    .dataframe thead th {\n",
       "        text-align: right;\n",
       "    }\n",
       "</style>\n",
       "<table border=\"1\" class=\"dataframe\">\n",
       "  <thead>\n",
       "    <tr style=\"text-align: right;\">\n",
       "      <th></th>\n",
       "      <th>corrected_state</th>\n",
       "      <th>corrected_city</th>\n",
       "      <th>corrected_latitude</th>\n",
       "      <th>corrected_longitude</th>\n",
       "      <th>city</th>\n",
       "      <th>state</th>\n",
       "    </tr>\n",
       "  </thead>\n",
       "  <tbody>\n",
       "    <tr>\n",
       "      <th>0</th>\n",
       "      <td>AL</td>\n",
       "      <td>Birmingham</td>\n",
       "      <td>33.520682</td>\n",
       "      <td>-86.802433</td>\n",
       "      <td>Birmimgham</td>\n",
       "      <td>AL</td>\n",
       "    </tr>\n",
       "    <tr>\n",
       "      <th>1</th>\n",
       "      <td>CA</td>\n",
       "      <td>Solana Beach</td>\n",
       "      <td>32.990560</td>\n",
       "      <td>-117.269131</td>\n",
       "      <td>Solana Bech</td>\n",
       "      <td>CA</td>\n",
       "    </tr>\n",
       "    <tr>\n",
       "      <th>2</th>\n",
       "      <td>LA</td>\n",
       "      <td>Houma</td>\n",
       "      <td>29.595770</td>\n",
       "      <td>-90.719535</td>\n",
       "      <td>Please Select</td>\n",
       "      <td>LA</td>\n",
       "    </tr>\n",
       "    <tr>\n",
       "      <th>3</th>\n",
       "      <td>IL</td>\n",
       "      <td>Schaumburg</td>\n",
       "      <td>42.033361</td>\n",
       "      <td>-88.083406</td>\n",
       "      <td>Schaumberg</td>\n",
       "      <td>IL</td>\n",
       "    </tr>\n",
       "    <tr>\n",
       "      <th>4</th>\n",
       "      <td>LA</td>\n",
       "      <td>Covington</td>\n",
       "      <td>30.475352</td>\n",
       "      <td>-90.101047</td>\n",
       "      <td>Covingtom</td>\n",
       "      <td>LA</td>\n",
       "    </tr>\n",
       "    <tr>\n",
       "      <th>5</th>\n",
       "      <td>IL</td>\n",
       "      <td>Chicago</td>\n",
       "      <td>41.875562</td>\n",
       "      <td>-87.624421</td>\n",
       "      <td>Chicao</td>\n",
       "      <td>IL</td>\n",
       "    </tr>\n",
       "    <tr>\n",
       "      <th>6</th>\n",
       "      <td>CO</td>\n",
       "      <td>Colorado Springs</td>\n",
       "      <td>38.833958</td>\n",
       "      <td>-104.825348</td>\n",
       "      <td>Colorad Springs</td>\n",
       "      <td>CO</td>\n",
       "    </tr>\n",
       "    <tr>\n",
       "      <th>7</th>\n",
       "      <td>TX</td>\n",
       "      <td>Arlington</td>\n",
       "      <td>32.735582</td>\n",
       "      <td>-97.107119</td>\n",
       "      <td>Arlignton</td>\n",
       "      <td>TX</td>\n",
       "    </tr>\n",
       "    <tr>\n",
       "      <th>8</th>\n",
       "      <td>SC</td>\n",
       "      <td>Greenville</td>\n",
       "      <td>34.851354</td>\n",
       "      <td>-82.398488</td>\n",
       "      <td>Greenville</td>\n",
       "      <td>SD</td>\n",
       "    </tr>\n",
       "    <tr>\n",
       "      <th>9</th>\n",
       "      <td>NC</td>\n",
       "      <td>Swannanoa</td>\n",
       "      <td>35.599829</td>\n",
       "      <td>-82.403393</td>\n",
       "      <td>Swannnanoa</td>\n",
       "      <td>NC</td>\n",
       "    </tr>\n",
       "    <tr>\n",
       "      <th>10</th>\n",
       "      <td>DC</td>\n",
       "      <td>Washington</td>\n",
       "      <td>38.895037</td>\n",
       "      <td>-77.036543</td>\n",
       "      <td>Wash</td>\n",
       "      <td>DC</td>\n",
       "    </tr>\n",
       "    <tr>\n",
       "      <th>11</th>\n",
       "      <td>IL</td>\n",
       "      <td>St. Charles</td>\n",
       "      <td>41.913981</td>\n",
       "      <td>-88.312818</td>\n",
       "      <td>Saint Charles</td>\n",
       "      <td>IL</td>\n",
       "    </tr>\n",
       "    <tr>\n",
       "      <th>12</th>\n",
       "      <td>MN</td>\n",
       "      <td>Minneapolis</td>\n",
       "      <td>44.977300</td>\n",
       "      <td>-93.265469</td>\n",
       "      <td>Minneapolis</td>\n",
       "      <td>PA</td>\n",
       "    </tr>\n",
       "    <tr>\n",
       "      <th>13</th>\n",
       "      <td>NJ</td>\n",
       "      <td>Wall Township</td>\n",
       "      <td>40.174305</td>\n",
       "      <td>-74.090222</td>\n",
       "      <td>wall</td>\n",
       "      <td>NJ</td>\n",
       "    </tr>\n",
       "    <tr>\n",
       "      <th>14</th>\n",
       "      <td>NJ</td>\n",
       "      <td>Wall Township</td>\n",
       "      <td>40.174305</td>\n",
       "      <td>-74.090222</td>\n",
       "      <td>Wall</td>\n",
       "      <td>NJ</td>\n",
       "    </tr>\n",
       "    <tr>\n",
       "      <th>15</th>\n",
       "      <td>OH</td>\n",
       "      <td>Cincinnati</td>\n",
       "      <td>39.101454</td>\n",
       "      <td>-84.512460</td>\n",
       "      <td>Cincinnnati</td>\n",
       "      <td>OH</td>\n",
       "    </tr>\n",
       "    <tr>\n",
       "      <th>16</th>\n",
       "      <td>IL</td>\n",
       "      <td>Naperville</td>\n",
       "      <td>41.772870</td>\n",
       "      <td>-88.147928</td>\n",
       "      <td>Naperrville</td>\n",
       "      <td>IL</td>\n",
       "    </tr>\n",
       "    <tr>\n",
       "      <th>17</th>\n",
       "      <td>UT</td>\n",
       "      <td>Cottonwood Heights</td>\n",
       "      <td>40.613474</td>\n",
       "      <td>-111.825646</td>\n",
       "      <td>COTTONWD HTS</td>\n",
       "      <td>UT</td>\n",
       "    </tr>\n",
       "    <tr>\n",
       "      <th>18</th>\n",
       "      <td>UT</td>\n",
       "      <td>Kaysville</td>\n",
       "      <td>41.034985</td>\n",
       "      <td>-111.938393</td>\n",
       "      <td>Kasyville</td>\n",
       "      <td>UT</td>\n",
       "    </tr>\n",
       "    <tr>\n",
       "      <th>19</th>\n",
       "      <td>CA</td>\n",
       "      <td>Anaheim</td>\n",
       "      <td>33.834752</td>\n",
       "      <td>-117.911732</td>\n",
       "      <td>Ahaheim</td>\n",
       "      <td>CA</td>\n",
       "    </tr>\n",
       "    <tr>\n",
       "      <th>20</th>\n",
       "      <td>CA</td>\n",
       "      <td>Encinitas</td>\n",
       "      <td>33.036987</td>\n",
       "      <td>-117.291982</td>\n",
       "      <td>Encinitass</td>\n",
       "      <td>CA</td>\n",
       "    </tr>\n",
       "  </tbody>\n",
       "</table>\n",
       "</div>"
      ],
      "text/plain": [
       "   corrected_state      corrected_city  corrected_latitude  \\\n",
       "0               AL          Birmingham           33.520682   \n",
       "1               CA        Solana Beach           32.990560   \n",
       "2               LA               Houma           29.595770   \n",
       "3               IL          Schaumburg           42.033361   \n",
       "4               LA           Covington           30.475352   \n",
       "5               IL             Chicago           41.875562   \n",
       "6               CO    Colorado Springs           38.833958   \n",
       "7               TX           Arlington           32.735582   \n",
       "8               SC          Greenville           34.851354   \n",
       "9               NC           Swannanoa           35.599829   \n",
       "10              DC          Washington           38.895037   \n",
       "11              IL         St. Charles           41.913981   \n",
       "12              MN         Minneapolis           44.977300   \n",
       "13              NJ       Wall Township           40.174305   \n",
       "14              NJ       Wall Township           40.174305   \n",
       "15              OH          Cincinnati           39.101454   \n",
       "16              IL          Naperville           41.772870   \n",
       "17              UT  Cottonwood Heights           40.613474   \n",
       "18              UT           Kaysville           41.034985   \n",
       "19              CA             Anaheim           33.834752   \n",
       "20              CA           Encinitas           33.036987   \n",
       "\n",
       "    corrected_longitude             city state  \n",
       "0            -86.802433       Birmimgham    AL  \n",
       "1           -117.269131      Solana Bech    CA  \n",
       "2            -90.719535    Please Select    LA  \n",
       "3            -88.083406       Schaumberg    IL  \n",
       "4            -90.101047        Covingtom    LA  \n",
       "5            -87.624421           Chicao    IL  \n",
       "6           -104.825348  Colorad Springs    CO  \n",
       "7            -97.107119        Arlignton    TX  \n",
       "8            -82.398488       Greenville    SD  \n",
       "9            -82.403393       Swannnanoa    NC  \n",
       "10           -77.036543             Wash    DC  \n",
       "11           -88.312818    Saint Charles    IL  \n",
       "12           -93.265469      Minneapolis    PA  \n",
       "13           -74.090222             wall    NJ  \n",
       "14           -74.090222             Wall    NJ  \n",
       "15           -84.512460      Cincinnnati    OH  \n",
       "16           -88.147928      Naperrville    IL  \n",
       "17          -111.825646     COTTONWD HTS    UT  \n",
       "18          -111.938393        Kasyville    UT  \n",
       "19          -117.911732          Ahaheim    CA  \n",
       "20          -117.291982       Encinitass    CA  "
      ]
     },
     "execution_count": 47,
     "metadata": {},
     "output_type": "execute_result"
    }
   ],
   "source": [
    "missing_lat_lon_df.columns = ['corrected_state','corrected_city','corrected_latitude','corrected_longitude']\n",
    "missing_lat_lon_df = missing_lat_lon_df.merge(\n",
    "    city_corrections,\n",
    "    on=['corrected_state','corrected_city'],\n",
    "    how = \"left\"\n",
    ")\n",
    "missing_lat_lon_df"
   ]
  },
  {
   "cell_type": "markdown",
   "id": "28b68684",
   "metadata": {},
   "source": [
    "### merging in geocoded_df"
   ]
  },
  {
   "cell_type": "code",
   "execution_count": 48,
   "id": "71346475",
   "metadata": {},
   "outputs": [],
   "source": [
    "# Merge with correction table\n",
    "geocoded_df = geocoded_df.merge(missing_lat_lon_df, on=[\"city\", \"state\"], how=\"left\")\n",
    "\n",
    "# Update city and state only if a correction is available\n",
    "geocoded_df[\"city\"] = geocoded_df[\"corrected_city\"].combine_first(geocoded_df[\"city\"])\n",
    "geocoded_df[\"state\"] = geocoded_df[\"corrected_state\"].combine_first(geocoded_df[\"state\"])\n",
    "\n",
    "# Update latitude and longitude where corrections are present\n",
    "geocoded_df[\"latitude\"] = geocoded_df[\"corrected_latitude\"].combine_first(geocoded_df[\"latitude\"])\n",
    "geocoded_df[\"longitude\"] = geocoded_df[\"corrected_longitude\"].combine_first(geocoded_df[\"longitude\"])\n",
    "\n",
    "# Drop the temporary correction columns\n",
    "geocoded_df.drop(columns=[\n",
    "    \"corrected_city\", \"corrected_state\", \"corrected_latitude\", \"corrected_longitude\"\n",
    "], inplace=True)\n"
   ]
  },
  {
   "cell_type": "code",
   "execution_count": 49,
   "id": "be696881",
   "metadata": {},
   "outputs": [
    {
     "data": {
      "text/plain": [
       "rank                0\n",
       "profile             0\n",
       "name                0\n",
       "url                 0\n",
       "state               0\n",
       "revenue             0\n",
       "growth_%            0\n",
       "industry            0\n",
       "workers             0\n",
       "previous_workers    0\n",
       "founded             0\n",
       "yrs_on_list         0\n",
       "metro               0\n",
       "city                0\n",
       "latitude            0\n",
       "longitude           0\n",
       "dtype: int64"
      ]
     },
     "execution_count": 49,
     "metadata": {},
     "output_type": "execute_result"
    }
   ],
   "source": [
    "geocoded_df.isna().sum()"
   ]
  },
  {
   "cell_type": "markdown",
   "id": "92a90726",
   "metadata": {},
   "source": [
    "# EDA"
   ]
  },
  {
   "cell_type": "code",
   "execution_count": 10,
   "id": "f5516f98",
   "metadata": {},
   "outputs": [
    {
     "data": {
      "text/html": [
       "<div>\n",
       "<style scoped>\n",
       "    .dataframe tbody tr th:only-of-type {\n",
       "        vertical-align: middle;\n",
       "    }\n",
       "\n",
       "    .dataframe tbody tr th {\n",
       "        vertical-align: top;\n",
       "    }\n",
       "\n",
       "    .dataframe thead th {\n",
       "        text-align: right;\n",
       "    }\n",
       "</style>\n",
       "<table border=\"1\" class=\"dataframe\">\n",
       "  <thead>\n",
       "    <tr style=\"text-align: right;\">\n",
       "      <th></th>\n",
       "      <th>rank</th>\n",
       "      <th>growth_%</th>\n",
       "      <th>workers</th>\n",
       "      <th>previous_workers</th>\n",
       "      <th>founded</th>\n",
       "      <th>yrs_on_list</th>\n",
       "    </tr>\n",
       "  </thead>\n",
       "  <tbody>\n",
       "    <tr>\n",
       "      <th>count</th>\n",
       "      <td>5011.000000</td>\n",
       "      <td>5011.000000</td>\n",
       "      <td>5011.000000</td>\n",
       "      <td>5011.000000</td>\n",
       "      <td>5011.000000</td>\n",
       "      <td>5011.000000</td>\n",
       "    </tr>\n",
       "    <tr>\n",
       "      <th>mean</th>\n",
       "      <td>2499.379565</td>\n",
       "      <td>454.752685</td>\n",
       "      <td>242.783077</td>\n",
       "      <td>111.705448</td>\n",
       "      <td>2005.445021</td>\n",
       "      <td>2.814009</td>\n",
       "    </tr>\n",
       "    <tr>\n",
       "      <th>std</th>\n",
       "      <td>1443.268601</td>\n",
       "      <td>1284.406582</td>\n",
       "      <td>2800.165478</td>\n",
       "      <td>1073.984562</td>\n",
       "      <td>30.313635</td>\n",
       "      <td>2.266067</td>\n",
       "    </tr>\n",
       "    <tr>\n",
       "      <th>min</th>\n",
       "      <td>1.000000</td>\n",
       "      <td>52.169100</td>\n",
       "      <td>0.000000</td>\n",
       "      <td>1.000000</td>\n",
       "      <td>0.000000</td>\n",
       "      <td>1.000000</td>\n",
       "    </tr>\n",
       "    <tr>\n",
       "      <th>25%</th>\n",
       "      <td>1249.500000</td>\n",
       "      <td>90.559000</td>\n",
       "      <td>22.000000</td>\n",
       "      <td>8.000000</td>\n",
       "      <td>2003.000000</td>\n",
       "      <td>1.000000</td>\n",
       "    </tr>\n",
       "    <tr>\n",
       "      <th>50%</th>\n",
       "      <td>2497.000000</td>\n",
       "      <td>157.542700</td>\n",
       "      <td>48.000000</td>\n",
       "      <td>20.000000</td>\n",
       "      <td>2009.000000</td>\n",
       "      <td>2.000000</td>\n",
       "    </tr>\n",
       "    <tr>\n",
       "      <th>75%</th>\n",
       "      <td>3749.500000</td>\n",
       "      <td>330.548700</td>\n",
       "      <td>116.000000</td>\n",
       "      <td>50.000000</td>\n",
       "      <td>2012.000000</td>\n",
       "      <td>4.000000</td>\n",
       "    </tr>\n",
       "    <tr>\n",
       "      <th>max</th>\n",
       "      <td>5000.000000</td>\n",
       "      <td>36680.388200</td>\n",
       "      <td>155000.000000</td>\n",
       "      <td>53000.000000</td>\n",
       "      <td>2016.000000</td>\n",
       "      <td>14.000000</td>\n",
       "    </tr>\n",
       "  </tbody>\n",
       "</table>\n",
       "</div>"
      ],
      "text/plain": [
       "              rank      growth_%        workers  previous_workers  \\\n",
       "count  5011.000000   5011.000000    5011.000000       5011.000000   \n",
       "mean   2499.379565    454.752685     242.783077        111.705448   \n",
       "std    1443.268601   1284.406582    2800.165478       1073.984562   \n",
       "min       1.000000     52.169100       0.000000          1.000000   \n",
       "25%    1249.500000     90.559000      22.000000          8.000000   \n",
       "50%    2497.000000    157.542700      48.000000         20.000000   \n",
       "75%    3749.500000    330.548700     116.000000         50.000000   \n",
       "max    5000.000000  36680.388200  155000.000000      53000.000000   \n",
       "\n",
       "           founded  yrs_on_list  \n",
       "count  5011.000000  5011.000000  \n",
       "mean   2005.445021     2.814009  \n",
       "std      30.313635     2.266067  \n",
       "min       0.000000     1.000000  \n",
       "25%    2003.000000     1.000000  \n",
       "50%    2009.000000     2.000000  \n",
       "75%    2012.000000     4.000000  \n",
       "max    2016.000000    14.000000  "
      ]
     },
     "execution_count": 10,
     "metadata": {},
     "output_type": "execute_result"
    }
   ],
   "source": [
    "raw_df.describe()"
   ]
  },
  {
   "cell_type": "markdown",
   "id": "3fafa616",
   "metadata": {},
   "source": [
    "## Industry"
   ]
  },
  {
   "cell_type": "code",
   "execution_count": 30,
   "id": "43d62e01",
   "metadata": {},
   "outputs": [
    {
     "name": "stdout",
     "output_type": "stream",
     "text": [
      "No. of unique industries: 27\n"
     ]
    }
   ],
   "source": [
    "print(f\"No. of unique industries: {len(raw_df['industry'].unique())}\")"
   ]
  },
  {
   "cell_type": "code",
   "execution_count": 31,
   "id": "bf8c1f53",
   "metadata": {},
   "outputs": [
    {
     "data": {
      "text/html": [
       "<div>\n",
       "<style scoped>\n",
       "    .dataframe tbody tr th:only-of-type {\n",
       "        vertical-align: middle;\n",
       "    }\n",
       "\n",
       "    .dataframe tbody tr th {\n",
       "        vertical-align: top;\n",
       "    }\n",
       "\n",
       "    .dataframe thead th {\n",
       "        text-align: right;\n",
       "    }\n",
       "</style>\n",
       "<table border=\"1\" class=\"dataframe\">\n",
       "  <thead>\n",
       "    <tr style=\"text-align: right;\">\n",
       "      <th></th>\n",
       "      <th>industry</th>\n",
       "      <th>count</th>\n",
       "    </tr>\n",
       "  </thead>\n",
       "  <tbody>\n",
       "    <tr>\n",
       "      <th>0</th>\n",
       "      <td>Business Products &amp; Services</td>\n",
       "      <td>492</td>\n",
       "    </tr>\n",
       "    <tr>\n",
       "      <th>1</th>\n",
       "      <td>Advertising &amp; Marketing</td>\n",
       "      <td>489</td>\n",
       "    </tr>\n",
       "    <tr>\n",
       "      <th>2</th>\n",
       "      <td>Software</td>\n",
       "      <td>461</td>\n",
       "    </tr>\n",
       "    <tr>\n",
       "      <th>3</th>\n",
       "      <td>Health</td>\n",
       "      <td>356</td>\n",
       "    </tr>\n",
       "    <tr>\n",
       "      <th>4</th>\n",
       "      <td>Construction</td>\n",
       "      <td>350</td>\n",
       "    </tr>\n",
       "  </tbody>\n",
       "</table>\n",
       "</div>"
      ],
      "text/plain": [
       "                       industry  count\n",
       "0  Business Products & Services    492\n",
       "1       Advertising & Marketing    489\n",
       "2                      Software    461\n",
       "3                        Health    356\n",
       "4                  Construction    350"
      ]
     },
     "execution_count": 31,
     "metadata": {},
     "output_type": "execute_result"
    }
   ],
   "source": [
    "# Top industries by count\n",
    "industry_counts = raw_df['industry'].value_counts().reset_index()\n",
    "industry_counts.columns = ['industry', 'count']\n",
    "industry_counts.head()"
   ]
  },
  {
   "cell_type": "markdown",
   "id": "6a4641c6",
   "metadata": {},
   "source": [
    "# Spatial EDA"
   ]
  },
  {
   "cell_type": "markdown",
   "id": "dfff80ff",
   "metadata": {},
   "source": [
    "Columns of interest\n",
    "* state\n",
    "* city"
   ]
  },
  {
   "cell_type": "markdown",
   "id": "46ee8ed2",
   "metadata": {},
   "source": [
    "## Number of companies per state"
   ]
  },
  {
   "cell_type": "code",
   "execution_count": null,
   "id": "3c371f56",
   "metadata": {},
   "outputs": [
    {
     "data": {
      "text/html": [
       "<div>\n",
       "<style scoped>\n",
       "    .dataframe tbody tr th:only-of-type {\n",
       "        vertical-align: middle;\n",
       "    }\n",
       "\n",
       "    .dataframe tbody tr th {\n",
       "        vertical-align: top;\n",
       "    }\n",
       "\n",
       "    .dataframe thead th {\n",
       "        text-align: right;\n",
       "    }\n",
       "</style>\n",
       "<table border=\"1\" class=\"dataframe\">\n",
       "  <thead>\n",
       "    <tr style=\"text-align: right;\">\n",
       "      <th></th>\n",
       "      <th>state</th>\n",
       "      <th>count</th>\n",
       "    </tr>\n",
       "  </thead>\n",
       "  <tbody>\n",
       "    <tr>\n",
       "      <th>0</th>\n",
       "      <td>CA</td>\n",
       "      <td>712</td>\n",
       "    </tr>\n",
       "    <tr>\n",
       "      <th>1</th>\n",
       "      <td>TX</td>\n",
       "      <td>467</td>\n",
       "    </tr>\n",
       "    <tr>\n",
       "      <th>2</th>\n",
       "      <td>FL</td>\n",
       "      <td>384</td>\n",
       "    </tr>\n",
       "    <tr>\n",
       "      <th>3</th>\n",
       "      <td>NY</td>\n",
       "      <td>300</td>\n",
       "    </tr>\n",
       "    <tr>\n",
       "      <th>4</th>\n",
       "      <td>VA</td>\n",
       "      <td>288</td>\n",
       "    </tr>\n",
       "  </tbody>\n",
       "</table>\n",
       "</div>"
      ],
      "text/plain": [
       "  state  count\n",
       "0    CA    712\n",
       "1    TX    467\n",
       "2    FL    384\n",
       "3    NY    300\n",
       "4    VA    288"
      ]
     },
     "execution_count": 17,
     "metadata": {},
     "output_type": "execute_result"
    }
   ],
   "source": [
    "state_counts = raw_df['state'].value_counts().reset_index()\n",
    "state_counts.columns = ['state', 'count']\n",
    "# top 5 states by No. of companies\n",
    "state_counts.head()"
   ]
  },
  {
   "cell_type": "markdown",
   "id": "f104f324",
   "metadata": {},
   "source": [
    "### Bar plot"
   ]
  },
  {
   "cell_type": "code",
   "execution_count": 23,
   "id": "8c01af3a",
   "metadata": {},
   "outputs": [
    {
     "data": {
      "image/png": "[encoded data removed]",
      "text/plain": [
       "<Figure size 1500x500 with 1 Axes>"
      ]
     },
     "metadata": {},
     "output_type": "display_data"
    }
   ],
   "source": [
    "plt.figure(figsize=(15, 5))\n",
    "plt.style.use('dark_background')\n",
    "plt.bar(state_counts['state'], state_counts['count'], color='skyblue')\n",
    "plt.xlabel('State')\n",
    "plt.ylabel('Number of Companies')\n",
    "plt.title('Number of Companies per State')\n",
    "plt.xticks(rotation=90)\n",
    "plt.show()"
   ]
  },
  {
   "cell_type": "markdown",
   "id": "fc6c2603",
   "metadata": {},
   "source": [
    "## Choropleth map"
   ]
  },
  {
   "cell_type": "code",
   "execution_count": null,
   "id": "e70dc5ce",
   "metadata": {},
   "outputs": [
    {
     "data": {
      "application/vnd.plotly.v1+json": {
       "config": {
        "plotlyServerURL": "https://plot.ly"
       },
       "data": [
        {
         "coloraxis": "coloraxis",
         "geo": "geo",
         "hovertemplate": "state=%{location}<br>count=%{z}<extra></extra>",
         "locationmode": "USA-states",
         "locations": [
          "CA",
          "TX",
          "FL",
          "NY",
          "VA",
          "IL",
          "GA",
          "PA",
          "OH",
          "CO",
          "NC",
          "MA",
          "MD",
          "NJ",
          "UT",
          "AZ",
          "WA",
          "TN",
          "MI",
          "MN",
          "MO",
          "AL",
          "IN",
          "OR",
          "SC",
          "WI",
          "DC",
          "CT",
          "LA",
          "KY",
          "NV",
          "IA",
          "OK",
          "KS",
          "NE",
          "ID",
          "NH",
          "SD",
          "MT",
          "DE",
          "ME",
          "AR",
          "ND",
          "NM",
          "WV",
          "WY",
          "VT",
          "RI",
          "MS",
          "HI",
          "PR"
         ],
         "name": "",
         "type": "choropleth",
         "z": [
          712,
          467,
          384,
          300,
          288,
          241,
          219,
          172,
          160,
          156,
          135,
          133,
          130,
          128,
          123,
          104,
          101,
          84,
          82,
          81,
          75,
          64,
          63,
          59,
          56,
          49,
          43,
          37,
          37,
          34,
          33,
          31,
          28,
          27,
          27,
          21,
          20,
          14,
          11,
          11,
          11,
          10,
          10,
          7,
          7,
          6,
          5,
          5,
          4,
          4,
          2
         ]
        }
       ],
       "layout": {
        "coloraxis": {
         "colorbar": {
          "title": {
           "text": "count"
          }
         },
         "colorscale": [
          [
           0,
           "#440154"
          ],
          [
           0.1111111111111111,
           "#482878"
          ],
          [
           0.2222222222222222,
           "#3e4989"
          ],
          [
           0.3333333333333333,
           "#31688e"
          ],
          [
           0.4444444444444444,
           "#26828e"
          ],
          [
           0.5555555555555556,
           "#1f9e89"
          ],
          [
           0.6666666666666666,
           "#35b779"
          ],
          [
           0.7777777777777778,
           "#6ece58"
          ],
          [
           0.8888888888888888,
           "#b5de2b"
          ],
          [
           1,
           "#fde725"
          ]
         ]
        },
        "geo": {
         "center": {},
         "domain": {
          "x": [
           0,
           1
          ],
          "y": [
           0,
           1
          ]
         },
         "scope": "usa"
        },
        "legend": {
         "tracegroupgap": 0
        },
        "template": {
         "data": {
          "bar": [
           {
            "error_x": {
             "color": "#f2f5fa"
            },
            "error_y": {
             "color": "#f2f5fa"
            },
            "marker": {
             "line": {
              "color": "rgb(17,17,17)",
              "width": 0.5
             },
             "pattern": {
              "fillmode": "overlay",
              "size": 10,
              "solidity": 0.2
             }
            },
            "type": "bar"
           }
          ],
          "barpolar": [
           {
            "marker": {
             "line": {
              "color": "rgb(17,17,17)",
              "width": 0.5
             },
             "pattern": {
              "fillmode": "overlay",
              "size": 10,
              "solidity": 0.2
             }
            },
            "type": "barpolar"
           }
          ],
          "carpet": [
           {
            "aaxis": {
             "endlinecolor": "#A2B1C6",
             "gridcolor": "#506784",
             "linecolor": "#506784",
             "minorgridcolor": "#506784",
             "startlinecolor": "#A2B1C6"
            },
            "baxis": {
             "endlinecolor": "#A2B1C6",
             "gridcolor": "#506784",
             "linecolor": "#506784",
             "minorgridcolor": "#506784",
             "startlinecolor": "#A2B1C6"
            },
            "type": "carpet"
           }
          ],
          "choropleth": [
           {
            "colorbar": {
             "outlinewidth": 0,
             "ticks": ""
            },
            "type": "choropleth"
           }
          ],
          "contour": [
           {
            "colorbar": {
             "outlinewidth": 0,
             "ticks": ""
            },
            "colorscale": [
             [
              0,
              "#0d0887"
             ],
             [
              0.1111111111111111,
              "#46039f"
             ],
             [
              0.2222222222222222,
              "#7201a8"
             ],
             [
              0.3333333333333333,
              "#9c179e"
             ],
             [
              0.4444444444444444,
              "#bd3786"
             ],
             [
              0.5555555555555556,
              "#d8576b"
             ],
             [
              0.6666666666666666,
              "#ed7953"
             ],
             [
              0.7777777777777778,
              "#fb9f3a"
             ],
             [
              0.8888888888888888,
              "#fdca26"
             ],
             [
              1,
              "#f0f921"
             ]
            ],
            "type": "contour"
           }
          ],
          "contourcarpet": [
           {
            "colorbar": {
             "outlinewidth": 0,
             "ticks": ""
            },
            "type": "contourcarpet"
           }
          ],
          "heatmap": [
           {
            "colorbar": {
             "outlinewidth": 0,
             "ticks": ""
            },
            "colorscale": [
             [
              0,
              "#0d0887"
             ],
             [
              0.1111111111111111,
              "#46039f"
             ],
             [
              0.2222222222222222,
              "#7201a8"
             ],
             [
              0.3333333333333333,
              "#9c179e"
             ],
             [
              0.4444444444444444,
              "#bd3786"
             ],
             [
              0.5555555555555556,
              "#d8576b"
             ],
             [
              0.6666666666666666,
              "#ed7953"
             ],
             [
              0.7777777777777778,
              "#fb9f3a"
             ],
             [
              0.8888888888888888,
              "#fdca26"
             ],
             [
              1,
              "#f0f921"
             ]
            ],
            "type": "heatmap"
           }
          ],
          "heatmapgl": [
           {
            "colorbar": {
             "outlinewidth": 0,
             "ticks": ""
            },
            "colorscale": [
             [
              0,
              "#0d0887"
             ],
             [
              0.1111111111111111,
              "#46039f"
             ],
             [
              0.2222222222222222,
              "#7201a8"
             ],
             [
              0.3333333333333333,
              "#9c179e"
             ],
             [
              0.4444444444444444,
              "#bd3786"
             ],
             [
              0.5555555555555556,
              "#d8576b"
             ],
             [
              0.6666666666666666,
              "#ed7953"
             ],
             [
              0.7777777777777778,
              "#fb9f3a"
             ],
             [
              0.8888888888888888,
              "#fdca26"
             ],
             [
              1,
              "#f0f921"
             ]
            ],
            "type": "heatmapgl"
           }
          ],
          "histogram": [
           {
            "marker": {
             "pattern": {
              "fillmode": "overlay",
              "size": 10,
              "solidity": 0.2
             }
            },
            "type": "histogram"
           }
          ],
          "histogram2d": [
           {
            "colorbar": {
             "outlinewidth": 0,
             "ticks": ""
            },
            "colorscale": [
             [
              0,
              "#0d0887"
             ],
             [
              0.1111111111111111,
              "#46039f"
             ],
             [
              0.2222222222222222,
              "#7201a8"
             ],
             [
              0.3333333333333333,
              "#9c179e"
             ],
             [
              0.4444444444444444,
              "#bd3786"
             ],
             [
              0.5555555555555556,
              "#d8576b"
             ],
             [
              0.6666666666666666,
              "#ed7953"
             ],
             [
              0.7777777777777778,
              "#fb9f3a"
             ],
             [
              0.8888888888888888,
              "#fdca26"
             ],
             [
              1,
              "#f0f921"
             ]
            ],
            "type": "histogram2d"
           }
          ],
          "histogram2dcontour": [
           {
            "colorbar": {
             "outlinewidth": 0,
             "ticks": ""
            },
            "colorscale": [
             [
              0,
              "#0d0887"
             ],
             [
              0.1111111111111111,
              "#46039f"
             ],
             [
              0.2222222222222222,
              "#7201a8"
             ],
             [
              0.3333333333333333,
              "#9c179e"
             ],
             [
              0.4444444444444444,
              "#bd3786"
             ],
             [
              0.5555555555555556,
              "#d8576b"
             ],
             [
              0.6666666666666666,
              "#ed7953"
             ],
             [
              0.7777777777777778,
              "#fb9f3a"
             ],
             [
              0.8888888888888888,
              "#fdca26"
             ],
             [
              1,
              "#f0f921"
             ]
            ],
            "type": "histogram2dcontour"
           }
          ],
          "mesh3d": [
           {
            "colorbar": {
             "outlinewidth": 0,
             "ticks": ""
            },
            "type": "mesh3d"
           }
          ],
          "parcoords": [
           {
            "line": {
             "colorbar": {
              "outlinewidth": 0,
              "ticks": ""
             }
            },
            "type": "parcoords"
           }
          ],
          "pie": [
           {
            "automargin": true,
            "type": "pie"
           }
          ],
          "scatter": [
           {
            "marker": {
             "line": {
              "color": "#283442"
             }
            },
            "type": "scatter"
           }
          ],
          "scatter3d": [
           {
            "line": {
             "colorbar": {
              "outlinewidth": 0,
              "ticks": ""
             }
            },
            "marker": {
             "colorbar": {
              "outlinewidth": 0,
              "ticks": ""
             }
            },
            "type": "scatter3d"
           }
          ],
          "scattercarpet": [
           {
            "marker": {
             "colorbar": {
              "outlinewidth": 0,
              "ticks": ""
             }
            },
            "type": "scattercarpet"
           }
          ],
          "scattergeo": [
           {
            "marker": {
             "colorbar": {
              "outlinewidth": 0,
              "ticks": ""
             }
            },
            "type": "scattergeo"
           }
          ],
          "scattergl": [
           {
            "marker": {
             "line": {
              "color": "#283442"
             }
            },
            "type": "scattergl"
           }
          ],
          "scattermapbox": [
           {
            "marker": {
             "colorbar": {
              "outlinewidth": 0,
              "ticks": ""
             }
            },
            "type": "scattermapbox"
           }
          ],
          "scatterpolar": [
           {
            "marker": {
             "colorbar": {
              "outlinewidth": 0,
              "ticks": ""
             }
            },
            "type": "scatterpolar"
           }
          ],
          "scatterpolargl": [
           {
            "marker": {
             "colorbar": {
              "outlinewidth": 0,
              "ticks": ""
             }
            },
            "type": "scatterpolargl"
           }
          ],
          "scatterternary": [
           {
            "marker": {
             "colorbar": {
              "outlinewidth": 0,
              "ticks": ""
             }
            },
            "type": "scatterternary"
           }
          ],
          "surface": [
           {
            "colorbar": {
             "outlinewidth": 0,
             "ticks": ""
            },
            "colorscale": [
             [
              0,
              "#0d0887"
             ],
             [
              0.1111111111111111,
              "#46039f"
             ],
             [
              0.2222222222222222,
              "#7201a8"
             ],
             [
              0.3333333333333333,
              "#9c179e"
             ],
             [
              0.4444444444444444,
              "#bd3786"
             ],
             [
              0.5555555555555556,
              "#d8576b"
             ],
             [
              0.6666666666666666,
              "#ed7953"
             ],
             [
              0.7777777777777778,
              "#fb9f3a"
             ],
             [
              0.8888888888888888,
              "#fdca26"
             ],
             [
              1,
              "#f0f921"
             ]
            ],
            "type": "surface"
           }
          ],
          "table": [
           {
            "cells": {
             "fill": {
              "color": "#506784"
             },
             "line": {
              "color": "rgb(17,17,17)"
             }
            },
            "header": {
             "fill": {
              "color": "#2a3f5f"
             },
             "line": {
              "color": "rgb(17,17,17)"
             }
            },
            "type": "table"
           }
          ]
         },
         "layout": {
          "annotationdefaults": {
           "arrowcolor": "#f2f5fa",
           "arrowhead": 0,
           "arrowwidth": 1
          },
          "autotypenumbers": "strict",
          "coloraxis": {
           "colorbar": {
            "outlinewidth": 0,
            "ticks": ""
           }
          },
          "colorscale": {
           "diverging": [
            [
             0,
             "#8e0152"
            ],
            [
             0.1,
             "#c51b7d"
            ],
            [
             0.2,
             "#de77ae"
            ],
            [
             0.3,
             "#f1b6da"
            ],
            [
             0.4,
             "#fde0ef"
            ],
            [
             0.5,
             "#f7f7f7"
            ],
            [
             0.6,
             "#e6f5d0"
            ],
            [
             0.7,
             "#b8e186"
            ],
            [
             0.8,
             "#7fbc41"
            ],
            [
             0.9,
             "#4d9221"
            ],
            [
             1,
             "#276419"
            ]
           ],
           "sequential": [
            [
             0,
             "#0d0887"
            ],
            [
             0.1111111111111111,
             "#46039f"
            ],
            [
             0.2222222222222222,
             "#7201a8"
            ],
            [
             0.3333333333333333,
             "#9c179e"
            ],
            [
             0.4444444444444444,
             "#bd3786"
            ],
            [
             0.5555555555555556,
             "#d8576b"
            ],
            [
             0.6666666666666666,
             "#ed7953"
            ],
            [
             0.7777777777777778,
             "#fb9f3a"
            ],
            [
             0.8888888888888888,
             "#fdca26"
            ],
            [
             1,
             "#f0f921"
            ]
           ],
           "sequentialminus": [
            [
             0,
             "#0d0887"
            ],
            [
             0.1111111111111111,
             "#46039f"
            ],
            [
             0.2222222222222222,
             "#7201a8"
            ],
            [
             0.3333333333333333,
             "#9c179e"
            ],
            [
             0.4444444444444444,
             "#bd3786"
            ],
            [
             0.5555555555555556,
             "#d8576b"
            ],
            [
             0.6666666666666666,
             "#ed7953"
            ],
            [
             0.7777777777777778,
             "#fb9f3a"
            ],
            [
             0.8888888888888888,
             "#fdca26"
            ],
            [
             1,
             "#f0f921"
            ]
           ]
          },
          "colorway": [
           "#636efa",
           "#EF553B",
           "#00cc96",
           "#ab63fa",
           "#FFA15A",
           "#19d3f3",
           "#FF6692",
           "#B6E880",
           "#FF97FF",
           "#FECB52"
          ],
          "font": {
           "color": "#f2f5fa"
          },
          "geo": {
           "bgcolor": "rgb(17,17,17)",
           "lakecolor": "rgb(17,17,17)",
           "landcolor": "rgb(17,17,17)",
           "showlakes": true,
           "showland": true,
           "subunitcolor": "#506784"
          },
          "hoverlabel": {
           "align": "left"
          },
          "hovermode": "closest",
          "mapbox": {
           "style": "dark"
          },
          "paper_bgcolor": "rgb(17,17,17)",
          "plot_bgcolor": "rgb(17,17,17)",
          "polar": {
           "angularaxis": {
            "gridcolor": "#506784",
            "linecolor": "#506784",
            "ticks": ""
           },
           "bgcolor": "rgb(17,17,17)",
           "radialaxis": {
            "gridcolor": "#506784",
            "linecolor": "#506784",
            "ticks": ""
           }
          },
          "scene": {
           "xaxis": {
            "backgroundcolor": "rgb(17,17,17)",
            "gridcolor": "#506784",
            "gridwidth": 2,
            "linecolor": "#506784",
            "showbackground": true,
            "ticks": "",
            "zerolinecolor": "#C8D4E3"
           },
           "yaxis": {
            "backgroundcolor": "rgb(17,17,17)",
            "gridcolor": "#506784",
            "gridwidth": 2,
            "linecolor": "#506784",
            "showbackground": true,
            "ticks": "",
            "zerolinecolor": "#C8D4E3"
           },
           "zaxis": {
            "backgroundcolor": "rgb(17,17,17)",
            "gridcolor": "#506784",
            "gridwidth": 2,
            "linecolor": "#506784",
            "showbackground": true,
            "ticks": "",
            "zerolinecolor": "#C8D4E3"
           }
          },
          "shapedefaults": {
           "line": {
            "color": "#f2f5fa"
           }
          },
          "sliderdefaults": {
           "bgcolor": "#C8D4E3",
           "bordercolor": "rgb(17,17,17)",
           "borderwidth": 1,
           "tickwidth": 0
          },
          "ternary": {
           "aaxis": {
            "gridcolor": "#506784",
            "linecolor": "#506784",
            "ticks": ""
           },
           "baxis": {
            "gridcolor": "#506784",
            "linecolor": "#506784",
            "ticks": ""
           },
           "bgcolor": "rgb(17,17,17)",
           "caxis": {
            "gridcolor": "#506784",
            "linecolor": "#506784",
            "ticks": ""
           }
          },
          "title": {
           "x": 0.05
          },
          "updatemenudefaults": {
           "bgcolor": "#506784",
           "borderwidth": 0
          },
          "xaxis": {
           "automargin": true,
           "gridcolor": "#283442",
           "linecolor": "#506784",
           "ticks": "",
           "title": {
            "standoff": 15
           },
           "zerolinecolor": "#283442",
           "zerolinewidth": 2
          },
          "yaxis": {
           "automargin": true,
           "gridcolor": "#283442",
           "linecolor": "#506784",
           "ticks": "",
           "title": {
            "standoff": 15
           },
           "zerolinecolor": "#283442",
           "zerolinewidth": 2
          }
         }
        },
        "title": {
         "text": "Number of Companies per State"
        }
       }
      },
      "text/html": [
       "<div>                            <div id=\"1e474f13-8da1-4824-b654-6699a31c5d5b\" class=\"plotly-graph-div\" style=\"height:525px; width:100%;\"></div>            <script type=\"text/javascript\">                require([\"plotly\"], function(Plotly) {                    window.PLOTLYENV=window.PLOTLYENV || {};                                    if (document.getElementById(\"1e474f13-8da1-4824-b654-6699a31c5d5b\")) {                    Plotly.newPlot(                        \"1e474f13-8da1-4824-b654-6699a31c5d5b\",                        [{\"coloraxis\":\"coloraxis\",\"geo\":\"geo\",\"hovertemplate\":\"state=%{location}\\u003cbr\\u003ecount=%{z}\\u003cextra\\u003e\\u003c\\u002fextra\\u003e\",\"locationmode\":\"USA-states\",\"locations\":[\"CA\",\"TX\",\"FL\",\"NY\",\"VA\",\"IL\",\"GA\",\"PA\",\"OH\",\"CO\",\"NC\",\"MA\",\"MD\",\"NJ\",\"UT\",\"AZ\",\"WA\",\"TN\",\"MI\",\"MN\",\"MO\",\"AL\",\"IN\",\"OR\",\"SC\",\"WI\",\"DC\",\"CT\",\"LA\",\"KY\",\"NV\",\"IA\",\"OK\",\"KS\",\"NE\",\"ID\",\"NH\",\"SD\",\"MT\",\"DE\",\"ME\",\"AR\",\"ND\",\"NM\",\"WV\",\"WY\",\"VT\",\"RI\",\"MS\",\"HI\",\"PR\"],\"name\":\"\",\"z\":[712,467,384,300,288,241,219,172,160,156,135,133,130,128,123,104,101,84,82,81,75,64,63,59,56,49,43,37,37,34,33,31,28,27,27,21,20,14,11,11,11,10,10,7,7,6,5,5,4,4,2],\"type\":\"choropleth\"}],                        {\"template\":{\"data\":{\"barpolar\":[{\"marker\":{\"line\":{\"color\":\"rgb(17,17,17)\",\"width\":0.5},\"pattern\":{\"fillmode\":\"overlay\",\"size\":10,\"solidity\":0.2}},\"type\":\"barpolar\"}],\"bar\":[{\"error_x\":{\"color\":\"#f2f5fa\"},\"error_y\":{\"color\":\"#f2f5fa\"},\"marker\":{\"line\":{\"color\":\"rgb(17,17,17)\",\"width\":0.5},\"pattern\":{\"fillmode\":\"overlay\",\"size\":10,\"solidity\":0.2}},\"type\":\"bar\"}],\"carpet\":[{\"aaxis\":{\"endlinecolor\":\"#A2B1C6\",\"gridcolor\":\"#506784\",\"linecolor\":\"#506784\",\"minorgridcolor\":\"#506784\",\"startlinecolor\":\"#A2B1C6\"},\"baxis\":{\"endlinecolor\":\"#A2B1C6\",\"gridcolor\":\"#506784\",\"linecolor\":\"#506784\",\"minorgridcolor\":\"#506784\",\"startlinecolor\":\"#A2B1C6\"},\"type\":\"carpet\"}],\"choropleth\":[{\"colorbar\":{\"outlinewidth\":0,\"ticks\":\"\"},\"type\":\"choropleth\"}],\"contourcarpet\":[{\"colorbar\":{\"outlinewidth\":0,\"ticks\":\"\"},\"type\":\"contourcarpet\"}],\"contour\":[{\"colorbar\":{\"outlinewidth\":0,\"ticks\":\"\"},\"colorscale\":[[0.0,\"#0d0887\"],[0.1111111111111111,\"#46039f\"],[0.2222222222222222,\"#7201a8\"],[0.3333333333333333,\"#9c179e\"],[0.4444444444444444,\"#bd3786\"],[0.5555555555555556,\"#d8576b\"],[0.6666666666666666,\"#ed7953\"],[0.7777777777777778,\"#fb9f3a\"],[0.8888888888888888,\"#fdca26\"],[1.0,\"#f0f921\"]],\"type\":\"contour\"}],\"heatmapgl\":[{\"colorbar\":{\"outlinewidth\":0,\"ticks\":\"\"},\"colorscale\":[[0.0,\"#0d0887\"],[0.1111111111111111,\"#46039f\"],[0.2222222222222222,\"#7201a8\"],[0.3333333333333333,\"#9c179e\"],[0.4444444444444444,\"#bd3786\"],[0.5555555555555556,\"#d8576b\"],[0.6666666666666666,\"#ed7953\"],[0.7777777777777778,\"#fb9f3a\"],[0.8888888888888888,\"#fdca26\"],[1.0,\"#f0f921\"]],\"type\":\"heatmapgl\"}],\"heatmap\":[{\"colorbar\":{\"outlinewidth\":0,\"ticks\":\"\"},\"colorscale\":[[0.0,\"#0d0887\"],[0.1111111111111111,\"#46039f\"],[0.2222222222222222,\"#7201a8\"],[0.3333333333333333,\"#9c179e\"],[0.4444444444444444,\"#bd3786\"],[0.5555555555555556,\"#d8576b\"],[0.6666666666666666,\"#ed7953\"],[0.7777777777777778,\"#fb9f3a\"],[0.8888888888888888,\"#fdca26\"],[1.0,\"#f0f921\"]],\"type\":\"heatmap\"}],\"histogram2dcontour\":[{\"colorbar\":{\"outlinewidth\":0,\"ticks\":\"\"},\"colorscale\":[[0.0,\"#0d0887\"],[0.1111111111111111,\"#46039f\"],[0.2222222222222222,\"#7201a8\"],[0.3333333333333333,\"#9c179e\"],[0.4444444444444444,\"#bd3786\"],[0.5555555555555556,\"#d8576b\"],[0.6666666666666666,\"#ed7953\"],[0.7777777777777778,\"#fb9f3a\"],[0.8888888888888888,\"#fdca26\"],[1.0,\"#f0f921\"]],\"type\":\"histogram2dcontour\"}],\"histogram2d\":[{\"colorbar\":{\"outlinewidth\":0,\"ticks\":\"\"},\"colorscale\":[[0.0,\"#0d0887\"],[0.1111111111111111,\"#46039f\"],[0.2222222222222222,\"#7201a8\"],[0.3333333333333333,\"#9c179e\"],[0.4444444444444444,\"#bd3786\"],[0.5555555555555556,\"#d8576b\"],[0.6666666666666666,\"#ed7953\"],[0.7777777777777778,\"#fb9f3a\"],[0.8888888888888888,\"#fdca26\"],[1.0,\"#f0f921\"]],\"type\":\"histogram2d\"}],\"histogram\":[{\"marker\":{\"pattern\":{\"fillmode\":\"overlay\",\"size\":10,\"solidity\":0.2}},\"type\":\"histogram\"}],\"mesh3d\":[{\"colorbar\":{\"outlinewidth\":0,\"ticks\":\"\"},\"type\":\"mesh3d\"}],\"parcoords\":[{\"line\":{\"colorbar\":{\"outlinewidth\":0,\"ticks\":\"\"}},\"type\":\"parcoords\"}],\"pie\":[{\"automargin\":true,\"type\":\"pie\"}],\"scatter3d\":[{\"line\":{\"colorbar\":{\"outlinewidth\":0,\"ticks\":\"\"}},\"marker\":{\"colorbar\":{\"outlinewidth\":0,\"ticks\":\"\"}},\"type\":\"scatter3d\"}],\"scattercarpet\":[{\"marker\":{\"colorbar\":{\"outlinewidth\":0,\"ticks\":\"\"}},\"type\":\"scattercarpet\"}],\"scattergeo\":[{\"marker\":{\"colorbar\":{\"outlinewidth\":0,\"ticks\":\"\"}},\"type\":\"scattergeo\"}],\"scattergl\":[{\"marker\":{\"line\":{\"color\":\"#283442\"}},\"type\":\"scattergl\"}],\"scattermapbox\":[{\"marker\":{\"colorbar\":{\"outlinewidth\":0,\"ticks\":\"\"}},\"type\":\"scattermapbox\"}],\"scatterpolargl\":[{\"marker\":{\"colorbar\":{\"outlinewidth\":0,\"ticks\":\"\"}},\"type\":\"scatterpolargl\"}],\"scatterpolar\":[{\"marker\":{\"colorbar\":{\"outlinewidth\":0,\"ticks\":\"\"}},\"type\":\"scatterpolar\"}],\"scatter\":[{\"marker\":{\"line\":{\"color\":\"#283442\"}},\"type\":\"scatter\"}],\"scatterternary\":[{\"marker\":{\"colorbar\":{\"outlinewidth\":0,\"ticks\":\"\"}},\"type\":\"scatterternary\"}],\"surface\":[{\"colorbar\":{\"outlinewidth\":0,\"ticks\":\"\"},\"colorscale\":[[0.0,\"#0d0887\"],[0.1111111111111111,\"#46039f\"],[0.2222222222222222,\"#7201a8\"],[0.3333333333333333,\"#9c179e\"],[0.4444444444444444,\"#bd3786\"],[0.5555555555555556,\"#d8576b\"],[0.6666666666666666,\"#ed7953\"],[0.7777777777777778,\"#fb9f3a\"],[0.8888888888888888,\"#fdca26\"],[1.0,\"#f0f921\"]],\"type\":\"surface\"}],\"table\":[{\"cells\":{\"fill\":{\"color\":\"#506784\"},\"line\":{\"color\":\"rgb(17,17,17)\"}},\"header\":{\"fill\":{\"color\":\"#2a3f5f\"},\"line\":{\"color\":\"rgb(17,17,17)\"}},\"type\":\"table\"}]},\"layout\":{\"annotationdefaults\":{\"arrowcolor\":\"#f2f5fa\",\"arrowhead\":0,\"arrowwidth\":1},\"autotypenumbers\":\"strict\",\"coloraxis\":{\"colorbar\":{\"outlinewidth\":0,\"ticks\":\"\"}},\"colorscale\":{\"diverging\":[[0,\"#8e0152\"],[0.1,\"#c51b7d\"],[0.2,\"#de77ae\"],[0.3,\"#f1b6da\"],[0.4,\"#fde0ef\"],[0.5,\"#f7f7f7\"],[0.6,\"#e6f5d0\"],[0.7,\"#b8e186\"],[0.8,\"#7fbc41\"],[0.9,\"#4d9221\"],[1,\"#276419\"]],\"sequential\":[[0.0,\"#0d0887\"],[0.1111111111111111,\"#46039f\"],[0.2222222222222222,\"#7201a8\"],[0.3333333333333333,\"#9c179e\"],[0.4444444444444444,\"#bd3786\"],[0.5555555555555556,\"#d8576b\"],[0.6666666666666666,\"#ed7953\"],[0.7777777777777778,\"#fb9f3a\"],[0.8888888888888888,\"#fdca26\"],[1.0,\"#f0f921\"]],\"sequentialminus\":[[0.0,\"#0d0887\"],[0.1111111111111111,\"#46039f\"],[0.2222222222222222,\"#7201a8\"],[0.3333333333333333,\"#9c179e\"],[0.4444444444444444,\"#bd3786\"],[0.5555555555555556,\"#d8576b\"],[0.6666666666666666,\"#ed7953\"],[0.7777777777777778,\"#fb9f3a\"],[0.8888888888888888,\"#fdca26\"],[1.0,\"#f0f921\"]]},\"colorway\":[\"#636efa\",\"#EF553B\",\"#00cc96\",\"#ab63fa\",\"#FFA15A\",\"#19d3f3\",\"#FF6692\",\"#B6E880\",\"#FF97FF\",\"#FECB52\"],\"font\":{\"color\":\"#f2f5fa\"},\"geo\":{\"bgcolor\":\"rgb(17,17,17)\",\"lakecolor\":\"rgb(17,17,17)\",\"landcolor\":\"rgb(17,17,17)\",\"showlakes\":true,\"showland\":true,\"subunitcolor\":\"#506784\"},\"hoverlabel\":{\"align\":\"left\"},\"hovermode\":\"closest\",\"mapbox\":{\"style\":\"dark\"},\"paper_bgcolor\":\"rgb(17,17,17)\",\"plot_bgcolor\":\"rgb(17,17,17)\",\"polar\":{\"angularaxis\":{\"gridcolor\":\"#506784\",\"linecolor\":\"#506784\",\"ticks\":\"\"},\"bgcolor\":\"rgb(17,17,17)\",\"radialaxis\":{\"gridcolor\":\"#506784\",\"linecolor\":\"#506784\",\"ticks\":\"\"}},\"scene\":{\"xaxis\":{\"backgroundcolor\":\"rgb(17,17,17)\",\"gridcolor\":\"#506784\",\"gridwidth\":2,\"linecolor\":\"#506784\",\"showbackground\":true,\"ticks\":\"\",\"zerolinecolor\":\"#C8D4E3\"},\"yaxis\":{\"backgroundcolor\":\"rgb(17,17,17)\",\"gridcolor\":\"#506784\",\"gridwidth\":2,\"linecolor\":\"#506784\",\"showbackground\":true,\"ticks\":\"\",\"zerolinecolor\":\"#C8D4E3\"},\"zaxis\":{\"backgroundcolor\":\"rgb(17,17,17)\",\"gridcolor\":\"#506784\",\"gridwidth\":2,\"linecolor\":\"#506784\",\"showbackground\":true,\"ticks\":\"\",\"zerolinecolor\":\"#C8D4E3\"}},\"shapedefaults\":{\"line\":{\"color\":\"#f2f5fa\"}},\"sliderdefaults\":{\"bgcolor\":\"#C8D4E3\",\"bordercolor\":\"rgb(17,17,17)\",\"borderwidth\":1,\"tickwidth\":0},\"ternary\":{\"aaxis\":{\"gridcolor\":\"#506784\",\"linecolor\":\"#506784\",\"ticks\":\"\"},\"baxis\":{\"gridcolor\":\"#506784\",\"linecolor\":\"#506784\",\"ticks\":\"\"},\"bgcolor\":\"rgb(17,17,17)\",\"caxis\":{\"gridcolor\":\"#506784\",\"linecolor\":\"#506784\",\"ticks\":\"\"}},\"title\":{\"x\":0.05},\"updatemenudefaults\":{\"bgcolor\":\"#506784\",\"borderwidth\":0},\"xaxis\":{\"automargin\":true,\"gridcolor\":\"#283442\",\"linecolor\":\"#506784\",\"ticks\":\"\",\"title\":{\"standoff\":15},\"zerolinecolor\":\"#283442\",\"zerolinewidth\":2},\"yaxis\":{\"automargin\":true,\"gridcolor\":\"#283442\",\"linecolor\":\"#506784\",\"ticks\":\"\",\"title\":{\"standoff\":15},\"zerolinecolor\":\"#283442\",\"zerolinewidth\":2}}},\"geo\":{\"domain\":{\"x\":[0.0,1.0],\"y\":[0.0,1.0]},\"center\":{},\"scope\":\"usa\"},\"coloraxis\":{\"colorbar\":{\"title\":{\"text\":\"count\"}},\"colorscale\":[[0.0,\"#440154\"],[0.1111111111111111,\"#482878\"],[0.2222222222222222,\"#3e4989\"],[0.3333333333333333,\"#31688e\"],[0.4444444444444444,\"#26828e\"],[0.5555555555555556,\"#1f9e89\"],[0.6666666666666666,\"#35b779\"],[0.7777777777777778,\"#6ece58\"],[0.8888888888888888,\"#b5de2b\"],[1.0,\"#fde725\"]]},\"legend\":{\"tracegroupgap\":0},\"title\":{\"text\":\"Number of Companies per State\"}},                        {\"responsive\": true}                    ).then(function(){\n",
       "                            \n",
       "var gd = document.getElementById('1e474f13-8da1-4824-b654-6699a31c5d5b');\n",
       "var x = new MutationObserver(function (mutations, observer) {{\n",
       "        var display = window.getComputedStyle(gd).display;\n",
       "        if (!display || display === 'none') {{\n",
       "            console.log([gd, 'removed!']);\n",
       "            Plotly.purge(gd);\n",
       "            observer.disconnect();\n",
       "        }}\n",
       "}});\n",
       "\n",
       "// Listen for the removal of the full notebook cells\n",
       "var notebookContainer = gd.closest('#notebook-container');\n",
       "if (notebookContainer) {{\n",
       "    x.observe(notebookContainer, {childList: true});\n",
       "}}\n",
       "\n",
       "// Listen for the clearing of the current output cell\n",
       "var outputEl = gd.closest('.output');\n",
       "if (outputEl) {{\n",
       "    x.observe(outputEl, {childList: true});\n",
       "}}\n",
       "\n",
       "                        })                };                });            </script>        </div>"
      ]
     },
     "metadata": {},
     "output_type": "display_data"
    }
   ],
   "source": [
    "fig = px.choropleth(\n",
    "    state_counts,\n",
    "    locations='state',\n",
    "    locationmode='USA-states',\n",
    "    color='count',\n",
    "    color_continuous_scale='Viridis',\n",
    "    scope='usa',\n",
    "    title='Number of Companies per State'\n",
    ")\n",
    "fig.update_layout(template='plotly_dark')\n",
    "fig.show()"
   ]
  },
  {
   "cell_type": "code",
   "execution_count": null,
   "id": "6bcacce1",
   "metadata": {},
   "outputs": [],
   "source": []
  }
 ],
 "metadata": {
  "kernelspec": {
   "display_name": "base",
   "language": "python",
   "name": "python3"
  },
  "language_info": {
   "codemirror_mode": {
    "name": "ipython",
    "version": 3
   },
   "file_extension": ".py",
   "mimetype": "text/x-python",
   "name": "python",
   "nbconvert_exporter": "python",
   "pygments_lexer": "ipython3",
   "version": "3.12.7"
  }
 },
 "nbformat": 4,
 "nbformat_minor": 5
}
